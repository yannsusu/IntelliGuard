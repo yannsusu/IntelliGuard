{
 "cells": [
  {
   "cell_type": "code",
   "metadata": {
    "ExecuteTime": {
     "end_time": "2025-04-09T13:11:57.476075Z",
     "start_time": "2025-04-09T13:11:50.977402Z"
    }
   },
   "source": [
    "from transformers import BertForSequenceClassification, BertTokenizer\n",
    "import torch\n",
    "from sklearn.metrics import accuracy_score, precision_recall_fscore_support, classification_report, confusion_matrix"
   ],
   "outputs": [
    {
     "name": "stderr",
     "output_type": "stream",
     "text": [
      "/Users/ynee/Documents/NUS/venv3.11/lib/python3.11/site-packages/tqdm/auto.py:21: TqdmWarning: IProgress not found. Please update jupyter and ipywidgets. See https://ipywidgets.readthedocs.io/en/stable/user_install.html\n",
      "  from .autonotebook import tqdm as notebook_tqdm\n"
     ]
    },
    {
     "ename": "RuntimeError",
     "evalue": "Failed to import transformers.models.bert.modeling_bert because of the following error (look up to see its traceback):\nmodule 'torch' has no attribute 'compiler'",
     "output_type": "error",
     "traceback": [
      "\u001B[0;31m---------------------------------------------------------------------------\u001B[0m",
      "\u001B[0;31mAttributeError\u001B[0m                            Traceback (most recent call last)",
      "File \u001B[0;32m~/Documents/NUS/venv3.11/lib/python3.11/site-packages/transformers/utils/import_utils.py:1976\u001B[0m, in \u001B[0;36m_LazyModule._get_module\u001B[0;34m(self, module_name)\u001B[0m\n\u001B[1;32m   1975\u001B[0m \u001B[38;5;28;01mtry\u001B[39;00m:\n\u001B[0;32m-> 1976\u001B[0m     \u001B[38;5;28;01mreturn\u001B[39;00m \u001B[43mimportlib\u001B[49m\u001B[38;5;241;43m.\u001B[39;49m\u001B[43mimport_module\u001B[49m\u001B[43m(\u001B[49m\u001B[38;5;124;43m\"\u001B[39;49m\u001B[38;5;124;43m.\u001B[39;49m\u001B[38;5;124;43m\"\u001B[39;49m\u001B[43m \u001B[49m\u001B[38;5;241;43m+\u001B[39;49m\u001B[43m \u001B[49m\u001B[43mmodule_name\u001B[49m\u001B[43m,\u001B[49m\u001B[43m \u001B[49m\u001B[38;5;28;43mself\u001B[39;49m\u001B[38;5;241;43m.\u001B[39;49m\u001B[38;5;18;43m__name__\u001B[39;49m\u001B[43m)\u001B[49m\n\u001B[1;32m   1977\u001B[0m \u001B[38;5;28;01mexcept\u001B[39;00m \u001B[38;5;167;01mException\u001B[39;00m \u001B[38;5;28;01mas\u001B[39;00m e:\n",
      "File \u001B[0;32m/Library/Frameworks/Python.framework/Versions/3.11/lib/python3.11/importlib/__init__.py:126\u001B[0m, in \u001B[0;36mimport_module\u001B[0;34m(name, package)\u001B[0m\n\u001B[1;32m    125\u001B[0m         level \u001B[38;5;241m+\u001B[39m\u001B[38;5;241m=\u001B[39m \u001B[38;5;241m1\u001B[39m\n\u001B[0;32m--> 126\u001B[0m \u001B[38;5;28;01mreturn\u001B[39;00m \u001B[43m_bootstrap\u001B[49m\u001B[38;5;241;43m.\u001B[39;49m\u001B[43m_gcd_import\u001B[49m\u001B[43m(\u001B[49m\u001B[43mname\u001B[49m\u001B[43m[\u001B[49m\u001B[43mlevel\u001B[49m\u001B[43m:\u001B[49m\u001B[43m]\u001B[49m\u001B[43m,\u001B[49m\u001B[43m \u001B[49m\u001B[43mpackage\u001B[49m\u001B[43m,\u001B[49m\u001B[43m \u001B[49m\u001B[43mlevel\u001B[49m\u001B[43m)\u001B[49m\n",
      "File \u001B[0;32m<frozen importlib._bootstrap>:1206\u001B[0m, in \u001B[0;36m_gcd_import\u001B[0;34m(name, package, level)\u001B[0m\n",
      "File \u001B[0;32m<frozen importlib._bootstrap>:1178\u001B[0m, in \u001B[0;36m_find_and_load\u001B[0;34m(name, import_)\u001B[0m\n",
      "File \u001B[0;32m<frozen importlib._bootstrap>:1149\u001B[0m, in \u001B[0;36m_find_and_load_unlocked\u001B[0;34m(name, import_)\u001B[0m\n",
      "File \u001B[0;32m<frozen importlib._bootstrap>:690\u001B[0m, in \u001B[0;36m_load_unlocked\u001B[0;34m(spec)\u001B[0m\n",
      "File \u001B[0;32m<frozen importlib._bootstrap_external>:940\u001B[0m, in \u001B[0;36mexec_module\u001B[0;34m(self, module)\u001B[0m\n",
      "File \u001B[0;32m<frozen importlib._bootstrap>:241\u001B[0m, in \u001B[0;36m_call_with_frames_removed\u001B[0;34m(f, *args, **kwds)\u001B[0m\n",
      "File \u001B[0;32m~/Documents/NUS/venv3.11/lib/python3.11/site-packages/transformers/models/bert/modeling_bert.py:47\u001B[0m\n\u001B[1;32m     36\u001B[0m \u001B[38;5;28;01mfrom\u001B[39;00m\u001B[38;5;250m \u001B[39m\u001B[38;5;21;01m.\u001B[39;00m\u001B[38;5;21;01m.\u001B[39;00m\u001B[38;5;21;01m.\u001B[39;00m\u001B[38;5;21;01mmodeling_outputs\u001B[39;00m\u001B[38;5;250m \u001B[39m\u001B[38;5;28;01mimport\u001B[39;00m (\n\u001B[1;32m     37\u001B[0m     BaseModelOutputWithPastAndCrossAttentions,\n\u001B[1;32m     38\u001B[0m     BaseModelOutputWithPoolingAndCrossAttentions,\n\u001B[0;32m   (...)\u001B[0m\n\u001B[1;32m     45\u001B[0m     TokenClassifierOutput,\n\u001B[1;32m     46\u001B[0m )\n\u001B[0;32m---> 47\u001B[0m \u001B[38;5;28;01mfrom\u001B[39;00m\u001B[38;5;250m \u001B[39m\u001B[38;5;21;01m.\u001B[39;00m\u001B[38;5;21;01m.\u001B[39;00m\u001B[38;5;21;01m.\u001B[39;00m\u001B[38;5;21;01mmodeling_utils\u001B[39;00m\u001B[38;5;250m \u001B[39m\u001B[38;5;28;01mimport\u001B[39;00m PreTrainedModel\n\u001B[1;32m     48\u001B[0m \u001B[38;5;28;01mfrom\u001B[39;00m\u001B[38;5;250m \u001B[39m\u001B[38;5;21;01m.\u001B[39;00m\u001B[38;5;21;01m.\u001B[39;00m\u001B[38;5;21;01m.\u001B[39;00m\u001B[38;5;21;01mpytorch_utils\u001B[39;00m\u001B[38;5;250m \u001B[39m\u001B[38;5;28;01mimport\u001B[39;00m apply_chunking_to_forward, find_pruneable_heads_and_indices, prune_linear_layer\n",
      "File \u001B[0;32m~/Documents/NUS/venv3.11/lib/python3.11/site-packages/transformers/modeling_utils.py:55\u001B[0m\n\u001B[1;32m     54\u001B[0m \u001B[38;5;28;01mfrom\u001B[39;00m\u001B[38;5;250m \u001B[39m\u001B[38;5;21;01m.\u001B[39;00m\u001B[38;5;21;01mintegrations\u001B[39;00m\u001B[38;5;21;01m.\u001B[39;00m\u001B[38;5;21;01mflash_attention\u001B[39;00m\u001B[38;5;250m \u001B[39m\u001B[38;5;28;01mimport\u001B[39;00m flash_attention_forward\n\u001B[0;32m---> 55\u001B[0m \u001B[38;5;28;01mfrom\u001B[39;00m\u001B[38;5;250m \u001B[39m\u001B[38;5;21;01m.\u001B[39;00m\u001B[38;5;21;01mintegrations\u001B[39;00m\u001B[38;5;21;01m.\u001B[39;00m\u001B[38;5;21;01mflex_attention\u001B[39;00m\u001B[38;5;250m \u001B[39m\u001B[38;5;28;01mimport\u001B[39;00m flex_attention_forward\n\u001B[1;32m     56\u001B[0m \u001B[38;5;28;01mfrom\u001B[39;00m\u001B[38;5;250m \u001B[39m\u001B[38;5;21;01m.\u001B[39;00m\u001B[38;5;21;01mintegrations\u001B[39;00m\u001B[38;5;21;01m.\u001B[39;00m\u001B[38;5;21;01msdpa_attention\u001B[39;00m\u001B[38;5;250m \u001B[39m\u001B[38;5;28;01mimport\u001B[39;00m sdpa_attention_forward\n",
      "File \u001B[0;32m~/Documents/NUS/venv3.11/lib/python3.11/site-packages/transformers/integrations/flex_attention.py:46\u001B[0m\n\u001B[1;32m     41\u001B[0m     \u001B[38;5;28;01mfrom\u001B[39;00m\u001B[38;5;250m \u001B[39m\u001B[38;5;21;01mtorch\u001B[39;00m\u001B[38;5;21;01m.\u001B[39;00m\u001B[38;5;21;01mnn\u001B[39;00m\u001B[38;5;21;01m.\u001B[39;00m\u001B[38;5;21;01mattention\u001B[39;00m\u001B[38;5;21;01m.\u001B[39;00m\u001B[38;5;21;01mflex_attention\u001B[39;00m\u001B[38;5;250m \u001B[39m\u001B[38;5;28;01mimport\u001B[39;00m (\n\u001B[1;32m     42\u001B[0m         create_block_mask \u001B[38;5;28;01mas\u001B[39;00m create_block_causal_mask_flex,\n\u001B[1;32m     43\u001B[0m     )\n\u001B[0;32m---> 46\u001B[0m \u001B[38;5;28;43;01mclass\u001B[39;49;00m\u001B[38;5;250;43m \u001B[39;49m\u001B[38;5;21;43;01mWrappedFlexAttention\u001B[39;49;00m\u001B[43m:\u001B[49m\n\u001B[1;32m     47\u001B[0m \u001B[38;5;250;43m    \u001B[39;49m\u001B[38;5;124;43;03m\"\"\"\u001B[39;49;00m\n\u001B[1;32m     48\u001B[0m \u001B[38;5;124;43;03m    We are doing a singleton class so that flex attention is compiled once when it's first called.\u001B[39;49;00m\n\u001B[1;32m     49\u001B[0m \u001B[38;5;124;43;03m    \"\"\"\u001B[39;49;00m\n",
      "File \u001B[0;32m~/Documents/NUS/venv3.11/lib/python3.11/site-packages/transformers/integrations/flex_attention.py:61\u001B[0m, in \u001B[0;36mWrappedFlexAttention\u001B[0;34m()\u001B[0m\n\u001B[1;32m     59\u001B[0m     \u001B[38;5;28;01mreturn\u001B[39;00m \u001B[38;5;28mcls\u001B[39m\u001B[38;5;241m.\u001B[39m_instance\n\u001B[0;32m---> 61\u001B[0m \u001B[38;5;129m@torch\u001B[39m\u001B[38;5;241;43m.\u001B[39;49m\u001B[43mcompiler\u001B[49m\u001B[38;5;241m.\u001B[39mdisable(recursive\u001B[38;5;241m=\u001B[39m\u001B[38;5;28;01mFalse\u001B[39;00m)\n\u001B[1;32m     62\u001B[0m \u001B[38;5;28;01mdef\u001B[39;00m\u001B[38;5;250m \u001B[39m\u001B[38;5;21m__init__\u001B[39m(\u001B[38;5;28mself\u001B[39m):\n\u001B[1;32m     63\u001B[0m \u001B[38;5;250m    \u001B[39m\u001B[38;5;124;03m\"\"\"\u001B[39;00m\n\u001B[1;32m     64\u001B[0m \u001B[38;5;124;03m    Initialize or update the singleton instance.\u001B[39;00m\n\u001B[1;32m     65\u001B[0m \u001B[38;5;124;03m    \"\"\"\u001B[39;00m\n",
      "\u001B[0;31mAttributeError\u001B[0m: module 'torch' has no attribute 'compiler'",
      "\nThe above exception was the direct cause of the following exception:\n",
      "\u001B[0;31mRuntimeError\u001B[0m                              Traceback (most recent call last)",
      "Cell \u001B[0;32mIn[1], line 1\u001B[0m\n\u001B[0;32m----> 1\u001B[0m \u001B[38;5;28;01mfrom\u001B[39;00m\u001B[38;5;250m \u001B[39m\u001B[38;5;21;01mtransformers\u001B[39;00m\u001B[38;5;250m \u001B[39m\u001B[38;5;28;01mimport\u001B[39;00m BertForSequenceClassification, BertTokenizer\n\u001B[1;32m      2\u001B[0m \u001B[38;5;28;01mimport\u001B[39;00m\u001B[38;5;250m \u001B[39m\u001B[38;5;21;01mtorch\u001B[39;00m\n\u001B[1;32m      3\u001B[0m \u001B[38;5;28;01mfrom\u001B[39;00m\u001B[38;5;250m \u001B[39m\u001B[38;5;21;01msklearn\u001B[39;00m\u001B[38;5;21;01m.\u001B[39;00m\u001B[38;5;21;01mmetrics\u001B[39;00m\u001B[38;5;250m \u001B[39m\u001B[38;5;28;01mimport\u001B[39;00m accuracy_score, precision_recall_fscore_support, classification_report, confusion_matrix\n",
      "File \u001B[0;32m<frozen importlib._bootstrap>:1231\u001B[0m, in \u001B[0;36m_handle_fromlist\u001B[0;34m(module, fromlist, import_, recursive)\u001B[0m\n",
      "File \u001B[0;32m~/Documents/NUS/venv3.11/lib/python3.11/site-packages/transformers/utils/import_utils.py:1965\u001B[0m, in \u001B[0;36m_LazyModule.__getattr__\u001B[0;34m(self, name)\u001B[0m\n\u001B[1;32m   1963\u001B[0m \u001B[38;5;28;01melif\u001B[39;00m name \u001B[38;5;129;01min\u001B[39;00m \u001B[38;5;28mself\u001B[39m\u001B[38;5;241m.\u001B[39m_class_to_module\u001B[38;5;241m.\u001B[39mkeys():\n\u001B[1;32m   1964\u001B[0m     module \u001B[38;5;241m=\u001B[39m \u001B[38;5;28mself\u001B[39m\u001B[38;5;241m.\u001B[39m_get_module(\u001B[38;5;28mself\u001B[39m\u001B[38;5;241m.\u001B[39m_class_to_module[name])\n\u001B[0;32m-> 1965\u001B[0m     value \u001B[38;5;241m=\u001B[39m \u001B[38;5;28;43mgetattr\u001B[39;49m\u001B[43m(\u001B[49m\u001B[43mmodule\u001B[49m\u001B[43m,\u001B[49m\u001B[43m \u001B[49m\u001B[43mname\u001B[49m\u001B[43m)\u001B[49m\n\u001B[1;32m   1966\u001B[0m \u001B[38;5;28;01melif\u001B[39;00m name \u001B[38;5;129;01min\u001B[39;00m \u001B[38;5;28mself\u001B[39m\u001B[38;5;241m.\u001B[39m_modules:\n\u001B[1;32m   1967\u001B[0m     value \u001B[38;5;241m=\u001B[39m \u001B[38;5;28mself\u001B[39m\u001B[38;5;241m.\u001B[39m_get_module(name)\n",
      "File \u001B[0;32m~/Documents/NUS/venv3.11/lib/python3.11/site-packages/transformers/utils/import_utils.py:1964\u001B[0m, in \u001B[0;36m_LazyModule.__getattr__\u001B[0;34m(self, name)\u001B[0m\n\u001B[1;32m   1962\u001B[0m     value \u001B[38;5;241m=\u001B[39m Placeholder\n\u001B[1;32m   1963\u001B[0m \u001B[38;5;28;01melif\u001B[39;00m name \u001B[38;5;129;01min\u001B[39;00m \u001B[38;5;28mself\u001B[39m\u001B[38;5;241m.\u001B[39m_class_to_module\u001B[38;5;241m.\u001B[39mkeys():\n\u001B[0;32m-> 1964\u001B[0m     module \u001B[38;5;241m=\u001B[39m \u001B[38;5;28;43mself\u001B[39;49m\u001B[38;5;241;43m.\u001B[39;49m\u001B[43m_get_module\u001B[49m\u001B[43m(\u001B[49m\u001B[38;5;28;43mself\u001B[39;49m\u001B[38;5;241;43m.\u001B[39;49m\u001B[43m_class_to_module\u001B[49m\u001B[43m[\u001B[49m\u001B[43mname\u001B[49m\u001B[43m]\u001B[49m\u001B[43m)\u001B[49m\n\u001B[1;32m   1965\u001B[0m     value \u001B[38;5;241m=\u001B[39m \u001B[38;5;28mgetattr\u001B[39m(module, name)\n\u001B[1;32m   1966\u001B[0m \u001B[38;5;28;01melif\u001B[39;00m name \u001B[38;5;129;01min\u001B[39;00m \u001B[38;5;28mself\u001B[39m\u001B[38;5;241m.\u001B[39m_modules:\n",
      "File \u001B[0;32m~/Documents/NUS/venv3.11/lib/python3.11/site-packages/transformers/utils/import_utils.py:1978\u001B[0m, in \u001B[0;36m_LazyModule._get_module\u001B[0;34m(self, module_name)\u001B[0m\n\u001B[1;32m   1976\u001B[0m     \u001B[38;5;28;01mreturn\u001B[39;00m importlib\u001B[38;5;241m.\u001B[39mimport_module(\u001B[38;5;124m\"\u001B[39m\u001B[38;5;124m.\u001B[39m\u001B[38;5;124m\"\u001B[39m \u001B[38;5;241m+\u001B[39m module_name, \u001B[38;5;28mself\u001B[39m\u001B[38;5;241m.\u001B[39m\u001B[38;5;18m__name__\u001B[39m)\n\u001B[1;32m   1977\u001B[0m \u001B[38;5;28;01mexcept\u001B[39;00m \u001B[38;5;167;01mException\u001B[39;00m \u001B[38;5;28;01mas\u001B[39;00m e:\n\u001B[0;32m-> 1978\u001B[0m     \u001B[38;5;28;01mraise\u001B[39;00m \u001B[38;5;167;01mRuntimeError\u001B[39;00m(\n\u001B[1;32m   1979\u001B[0m         \u001B[38;5;124mf\u001B[39m\u001B[38;5;124m\"\u001B[39m\u001B[38;5;124mFailed to import \u001B[39m\u001B[38;5;132;01m{\u001B[39;00m\u001B[38;5;28mself\u001B[39m\u001B[38;5;241m.\u001B[39m\u001B[38;5;18m__name__\u001B[39m\u001B[38;5;132;01m}\u001B[39;00m\u001B[38;5;124m.\u001B[39m\u001B[38;5;132;01m{\u001B[39;00mmodule_name\u001B[38;5;132;01m}\u001B[39;00m\u001B[38;5;124m because of the following error (look up to see its\u001B[39m\u001B[38;5;124m\"\u001B[39m\n\u001B[1;32m   1980\u001B[0m         \u001B[38;5;124mf\u001B[39m\u001B[38;5;124m\"\u001B[39m\u001B[38;5;124m traceback):\u001B[39m\u001B[38;5;130;01m\\n\u001B[39;00m\u001B[38;5;132;01m{\u001B[39;00me\u001B[38;5;132;01m}\u001B[39;00m\u001B[38;5;124m\"\u001B[39m\n\u001B[1;32m   1981\u001B[0m     ) \u001B[38;5;28;01mfrom\u001B[39;00m\u001B[38;5;250m \u001B[39m\u001B[38;5;21;01me\u001B[39;00m\n",
      "\u001B[0;31mRuntimeError\u001B[0m: Failed to import transformers.models.bert.modeling_bert because of the following error (look up to see its traceback):\nmodule 'torch' has no attribute 'compiler'"
     ]
    }
   ],
   "execution_count": 1
  },
  {
   "cell_type": "code",
   "execution_count": 132,
   "metadata": {},
   "outputs": [
    {
     "name": "stderr",
     "output_type": "stream",
     "text": [
      "Some weights of BertForSequenceClassification were not initialized from the model checkpoint at bert-base-uncased and are newly initialized: ['classifier.bias', 'classifier.weight']\n",
      "You should probably TRAIN this model on a down-stream task to be able to use it for predictions and inference.\n"
     ]
    },
    {
     "data": {
      "text/plain": [
       "_IncompatibleKeys(missing_keys=['classifier.weight', 'classifier.bias'], unexpected_keys=[])"
      ]
     },
     "execution_count": 132,
     "metadata": {},
     "output_type": "execute_result"
    }
   ],
   "source": [
    "model = BertForSequenceClassification.from_pretrained(\"bert-base-uncased\",num_labels=3)\n",
    "state_dict=torch.load('bert_rumor_detection.pth')\n",
    "\n",
    "state_dict = {k: v for k, v in state_dict.items() if 'classifier' not in k}\n",
    "\n",
    "model.load_state_dict(state_dict,strict=False)"
   ]
  },
  {
   "cell_type": "code",
   "execution_count": 133,
   "metadata": {},
   "outputs": [],
   "source": [
    "from peft import LoraConfig, get_peft_model\n",
    "\n",
    "lora_config = LoraConfig(\n",
    "    task_type=\"SEQ_CLS\", \n",
    "    r=16,  # rank\n",
    "    lora_alpha=32, \n",
    "    lora_dropout=0.1, \n",
    ")\n",
    "\n",
    "model = get_peft_model(model, lora_config)\n"
   ]
  },
  {
   "cell_type": "code",
   "execution_count": 134,
   "metadata": {},
   "outputs": [],
   "source": [
    "from torch.utils.data import Dataset\n",
    "import json\n",
    "\n",
    "class MyRumorDataset(Dataset):\n",
    "    def __init__(self, texts, labels, tokenizer, max_len=512):\n",
    "        self.texts=texts\n",
    "        self.labels=labels\n",
    "        self.tokenizer = tokenizer\n",
    "        self.max_len = max_len\n",
    "\n",
    "    def __len__(self):\n",
    "        return len(self.texts)\n",
    "\n",
    "    def __getitem__(self, idx):\n",
    "        text = str(self.texts.iloc[idx])\n",
    "        label = int(self.labels.iloc[idx])\n",
    "\n",
    "        encoding = self.tokenizer(\n",
    "            text,\n",
    "            truncation=True,\n",
    "            padding='max_length',\n",
    "            max_length=self.max_len,\n",
    "            return_tensors=\"pt\",\n",
    "            return_attention_mask=True\n",
    "        )\n",
    "\n",
    "        return {\n",
    "            'input_ids': encoding['input_ids'].flatten(),\n",
    "            'attention_mask': encoding['attention_mask'].flatten(),\n",
    "            'labels': torch.tensor(label, dtype=torch.long)\n",
    "        }\n"
   ]
  },
  {
   "cell_type": "code",
   "execution_count": 135,
   "metadata": {},
   "outputs": [
    {
     "data": {
      "text/html": [
       "<div>\n",
       "<style scoped>\n",
       "    .dataframe tbody tr th:only-of-type {\n",
       "        vertical-align: middle;\n",
       "    }\n",
       "\n",
       "    .dataframe tbody tr th {\n",
       "        vertical-align: top;\n",
       "    }\n",
       "\n",
       "    .dataframe thead th {\n",
       "        text-align: right;\n",
       "    }\n",
       "</style>\n",
       "<table border=\"1\" class=\"dataframe\">\n",
       "  <thead>\n",
       "    <tr style=\"text-align: right;\">\n",
       "      <th></th>\n",
       "      <th>id</th>\n",
       "      <th>text</th>\n",
       "      <th>entities</th>\n",
       "      <th>policies</th>\n",
       "      <th>entities_in_policy</th>\n",
       "      <th>label</th>\n",
       "    </tr>\n",
       "  </thead>\n",
       "  <tbody>\n",
       "    <tr>\n",
       "      <th>0</th>\n",
       "      <td>P001</td>\n",
       "      <td>The Texas Heartbeat Act prohibits abortions af...</td>\n",
       "      <td>[[Texas Heartbeat Act, LAW], [six weeks, TIME]]</td>\n",
       "      <td>A physician may not knowingly perform or induc...</td>\n",
       "      <td>[[fetal heartbeat, MEDICAL]]</td>\n",
       "      <td>truth</td>\n",
       "    </tr>\n",
       "    <tr>\n",
       "      <th>1</th>\n",
       "      <td>P002</td>\n",
       "      <td>SB8 allows anyone to sue anyone who 'aids or a...</td>\n",
       "      <td>[[SB8, LAW], [$10,000, MONEY]]</td>\n",
       "      <td>If a claimant prevails in an action brought un...</td>\n",
       "      <td>[[$10,000, MONEY]]</td>\n",
       "      <td>truth</td>\n",
       "    </tr>\n",
       "    <tr>\n",
       "      <th>2</th>\n",
       "      <td>P003</td>\n",
       "      <td>Under the Texas Heartbeat Act, the state's att...</td>\n",
       "      <td>[[Texas Heartbeat Act, LAW], [attorney general...</td>\n",
       "      <td>Notwithstanding Section 171.005 or any other l...</td>\n",
       "      <td>[[private civil actions, LEGAL]]</td>\n",
       "      <td>truth</td>\n",
       "    </tr>\n",
       "    <tr>\n",
       "      <th>3</th>\n",
       "      <td>P004</td>\n",
       "      <td>The law defines pregnancy as beginning at fert...</td>\n",
       "      <td>[[fertilization, MEDICAL], [implantation, MEDI...</td>\n",
       "      <td>'Pregnancy' means the human female reproductiv...</td>\n",
       "      <td>[[fertilization, MEDICAL]]</td>\n",
       "      <td>truth</td>\n",
       "    </tr>\n",
       "    <tr>\n",
       "      <th>4</th>\n",
       "      <td>P005</td>\n",
       "      <td>Texas will imprison doctors who perform aborti...</td>\n",
       "      <td>[[doctors, PROFESSION], [imprison, LEGAL]]</td>\n",
       "      <td>Any person, other than an officer or employee ...</td>\n",
       "      <td>[[civil action, LEGAL]]</td>\n",
       "      <td>rumor</td>\n",
       "    </tr>\n",
       "    <tr>\n",
       "      <th>5</th>\n",
       "      <td>P006</td>\n",
       "      <td>Physicians are required to document if an abor...</td>\n",
       "      <td>[[medical emergency, MEDICAL], [document, ACTI...</td>\n",
       "      <td>If an abortion is performed or induced on a pr...</td>\n",
       "      <td>[[medical emergency, MEDICAL], [written docume...</td>\n",
       "      <td>truth</td>\n",
       "    </tr>\n",
       "    <tr>\n",
       "      <th>6</th>\n",
       "      <td>P007</td>\n",
       "      <td>Women who have abortions can be sued and fined...</td>\n",
       "      <td>[[women, DEMOGRAPHIC], [sued, LEGAL], [fined, ...</td>\n",
       "      <td>This subchapter may not be construed to: (1) a...</td>\n",
       "      <td>[[woman, DEMOGRAPHIC], [cause of action, LEGAL]]</td>\n",
       "      <td>rumor</td>\n",
       "    </tr>\n",
       "    <tr>\n",
       "      <th>7</th>\n",
       "      <td>P008</td>\n",
       "      <td>Texas SB8 allows a rapist to sue a doctor who ...</td>\n",
       "      <td>[[rapist, CRIMINAL], [victim, PERSON]]</td>\n",
       "      <td>Notwithstanding any other law, a civil action ...</td>\n",
       "      <td>[[rape, CRIMINAL], [sexual assault, CRIMINAL],...</td>\n",
       "      <td>rumor</td>\n",
       "    </tr>\n",
       "    <tr>\n",
       "      <th>8</th>\n",
       "      <td>P009</td>\n",
       "      <td>A provision within SB8 states that ignorance o...</td>\n",
       "      <td>[[ignorance of the law, LEGAL], [defense, LEGAL]]</td>\n",
       "      <td>Notwithstanding any other law, the following a...</td>\n",
       "      <td>[[ignorance, CONCEPT], [mistake of law, LEGAL]]</td>\n",
       "      <td>truth</td>\n",
       "    </tr>\n",
       "    <tr>\n",
       "      <th>9</th>\n",
       "      <td>P010</td>\n",
       "      <td>The Texas Heartbeat Act prohibits enforcement ...</td>\n",
       "      <td>[[state officials, PERSON], [federal courts, O...</td>\n",
       "      <td>Notwithstanding Section 171.005 or any other l...</td>\n",
       "      <td>[[private civil actions, LEGAL]]</td>\n",
       "      <td>unverified</td>\n",
       "    </tr>\n",
       "  </tbody>\n",
       "</table>\n",
       "</div>"
      ],
      "text/plain": [
       "     id                                               text  \\\n",
       "0  P001  The Texas Heartbeat Act prohibits abortions af...   \n",
       "1  P002  SB8 allows anyone to sue anyone who 'aids or a...   \n",
       "2  P003  Under the Texas Heartbeat Act, the state's att...   \n",
       "3  P004  The law defines pregnancy as beginning at fert...   \n",
       "4  P005  Texas will imprison doctors who perform aborti...   \n",
       "5  P006  Physicians are required to document if an abor...   \n",
       "6  P007  Women who have abortions can be sued and fined...   \n",
       "7  P008  Texas SB8 allows a rapist to sue a doctor who ...   \n",
       "8  P009  A provision within SB8 states that ignorance o...   \n",
       "9  P010  The Texas Heartbeat Act prohibits enforcement ...   \n",
       "\n",
       "                                            entities  \\\n",
       "0    [[Texas Heartbeat Act, LAW], [six weeks, TIME]]   \n",
       "1                     [[SB8, LAW], [$10,000, MONEY]]   \n",
       "2  [[Texas Heartbeat Act, LAW], [attorney general...   \n",
       "3  [[fertilization, MEDICAL], [implantation, MEDI...   \n",
       "4         [[doctors, PROFESSION], [imprison, LEGAL]]   \n",
       "5  [[medical emergency, MEDICAL], [document, ACTI...   \n",
       "6  [[women, DEMOGRAPHIC], [sued, LEGAL], [fined, ...   \n",
       "7             [[rapist, CRIMINAL], [victim, PERSON]]   \n",
       "8  [[ignorance of the law, LEGAL], [defense, LEGAL]]   \n",
       "9  [[state officials, PERSON], [federal courts, O...   \n",
       "\n",
       "                                            policies  \\\n",
       "0  A physician may not knowingly perform or induc...   \n",
       "1  If a claimant prevails in an action brought un...   \n",
       "2  Notwithstanding Section 171.005 or any other l...   \n",
       "3  'Pregnancy' means the human female reproductiv...   \n",
       "4  Any person, other than an officer or employee ...   \n",
       "5  If an abortion is performed or induced on a pr...   \n",
       "6  This subchapter may not be construed to: (1) a...   \n",
       "7  Notwithstanding any other law, a civil action ...   \n",
       "8  Notwithstanding any other law, the following a...   \n",
       "9  Notwithstanding Section 171.005 or any other l...   \n",
       "\n",
       "                                  entities_in_policy       label  \n",
       "0                       [[fetal heartbeat, MEDICAL]]       truth  \n",
       "1                                 [[$10,000, MONEY]]       truth  \n",
       "2                   [[private civil actions, LEGAL]]       truth  \n",
       "3                         [[fertilization, MEDICAL]]       truth  \n",
       "4                            [[civil action, LEGAL]]       rumor  \n",
       "5  [[medical emergency, MEDICAL], [written docume...       truth  \n",
       "6   [[woman, DEMOGRAPHIC], [cause of action, LEGAL]]       rumor  \n",
       "7  [[rape, CRIMINAL], [sexual assault, CRIMINAL],...       rumor  \n",
       "8    [[ignorance, CONCEPT], [mistake of law, LEGAL]]       truth  \n",
       "9                   [[private civil actions, LEGAL]]  unverified  "
      ]
     },
     "execution_count": 135,
     "metadata": {},
     "output_type": "execute_result"
    }
   ],
   "source": [
    "import pandas as pd\n",
    "import json\n",
    "\n",
    "with open('matched_data.jsonl', 'r', encoding='utf-8') as f:\n",
    "    data = []\n",
    "    for line in f:\n",
    "        line = line.strip()  # Remove any leading/trailing spaces\n",
    "        if line:  # Ensure it's not an empty line\n",
    "            try:\n",
    "                data.append(json.loads(line))\n",
    "            except json.JSONDecodeError as e:\n",
    "                print(f\"Error parsing line: {line}\")\n",
    "                print(f\"Error message: {e}\")\n",
    "\n",
    "df = pd.DataFrame(data)\n",
    "\n",
    "# Split 'policies' into two columns: 'policy_text' and 'entities'\n",
    "df['entities_in_policy'] = df['policies'].apply(lambda x: x[0]['entities'] if isinstance(x, list) and len(x) > 0 else None)\n",
    "df['policies'] = df['policies'].apply(lambda x: x[0]['policy_text'] if isinstance(x, list) and len(x) > 0 else None)\n",
    "columns = [col for col in df.columns if col != 'label']  # All columns except 'label'\n",
    "columns.append('label')  # Append 'label' as the last column\n",
    "df = df[columns]\n",
    "\n",
    "df.head(10)"
   ]
  },
  {
   "cell_type": "code",
   "execution_count": 136,
   "metadata": {},
   "outputs": [],
   "source": [
    "df['label'] = df['label'].map({'truth': 0, 'rumor': 1, 'unverified':2})"
   ]
  },
  {
   "cell_type": "code",
   "execution_count": 137,
   "metadata": {},
   "outputs": [
    {
     "data": {
      "image/png": "[encoded data removed]",
      "text/plain": [
       "<Figure size 640x480 with 1 Axes>"
      ]
     },
     "metadata": {},
     "output_type": "display_data"
    }
   ],
   "source": [
    "# Plotting a bar chart for visual analysis\n",
    "import matplotlib.pyplot as plt\n",
    "\n",
    "df['label'].value_counts().plot(kind='bar')\n",
    "plt.title(\"Dataset Class Distribution\")\n",
    "plt.ylabel(\"Number of Instances\")\n",
    "plt.show()"
   ]
  },
  {
   "cell_type": "code",
   "execution_count": 138,
   "metadata": {},
   "outputs": [],
   "source": [
    "from sklearn.model_selection import train_test_split\n",
    "train_df, val_df = train_test_split(\n",
    "    df, \n",
    "    test_size=0.2, \n",
    "    stratify=df['label'], \n",
    "    random_state=42\n",
    ")"
   ]
  },
  {
   "cell_type": "code",
   "execution_count": 139,
   "metadata": {},
   "outputs": [],
   "source": [
    "tokenizer = BertTokenizer.from_pretrained('bert-base-uncased')"
   ]
  },
  {
   "cell_type": "code",
   "execution_count": 140,
   "metadata": {},
   "outputs": [],
   "source": [
    "# Create datasets\n",
    "# train_text=train_df['text'].tolist()\n",
    "# train_label=train_df['label'].tolist()\n",
    "\n",
    "train_dataset = MyRumorDataset(\n",
    "    texts=train_df['text'],\n",
    "    labels=train_df['label'],\n",
    "    tokenizer=tokenizer,\n",
    ")\n",
    "\n",
    "# val_text=val_df['text'].tolist()\n",
    "# val_label=val_df['label'].tolist()\n",
    "\n",
    "val_dataset = MyRumorDataset(\n",
    "    texts=val_df['text'],\n",
    "    labels=val_df['label'],\n",
    "    tokenizer=tokenizer,\n",
    ")\n"
   ]
  },
  {
   "cell_type": "code",
   "execution_count": 141,
   "metadata": {},
   "outputs": [],
   "source": [
    "def evaluate(model, dataloader, device):\n",
    "    model.eval()\n",
    "    preds = []\n",
    "    true_labels = []\n",
    "\n",
    "    with torch.no_grad():\n",
    "        for batch in dataloader:\n",
    "            input_ids = batch['input_ids'].to(device)\n",
    "            attention_mask = batch['attention_mask'].to(device)\n",
    "            labels = batch['labels'].to(device)\n",
    "\n",
    "            outputs = model(input_ids=input_ids, attention_mask=attention_mask)\n",
    "            logits = outputs.logits\n",
    "            predictions = torch.argmax(logits, dim=-1)\n",
    "\n",
    "            preds.extend(predictions.cpu().numpy())\n",
    "            true_labels.extend(labels.cpu().numpy())\n",
    "\n",
    "    # Compute metrics\n",
    "    acc = accuracy_score(true_labels, preds)\n",
    "    precision, recall, f1, _ = precision_recall_fscore_support(true_labels, preds, average='macro')  # or 'macro' if multi-class\n",
    "\n",
    "    print(\"Evaluation Metrics:\")\n",
    "    print(f\"Accuracy:  {acc:.4f}\")\n",
    "    print(f\"Precision: {precision:.4f}\")\n",
    "    print(f\"Recall:    {recall:.4f}\")\n",
    "    print(f\"F1 Score:  {f1:.4f}\")\n",
    "    print(\"Confusion Matrix:\")\n",
    "    print(confusion_matrix(true_labels, preds))\n",
    "    print(\"Classification Report:\")\n",
    "    print(classification_report(true_labels, preds, digits=4))\n",
    "\n",
    "    return acc, precision, recall, f1"
   ]
  },
  {
   "cell_type": "code",
   "execution_count": 142,
   "metadata": {},
   "outputs": [],
   "source": [
    "from torch.utils.data import DataLoader\n",
    "train_loader=DataLoader(train_dataset,batch_size=16,shuffle=True)\n",
    "val_loader=DataLoader(val_dataset,batch_size=32)"
   ]
  },
  {
   "cell_type": "code",
   "execution_count": 143,
   "metadata": {},
   "outputs": [],
   "source": [
    "from torch.optim import AdamW\n",
    "from torch.nn import CrossEntropyLoss\n",
    "from transformers import get_linear_schedule_with_warmup"
   ]
  },
  {
   "cell_type": "code",
   "execution_count": 144,
   "metadata": {},
   "outputs": [],
   "source": [
    "optimizer = AdamW(model.parameters(), lr=1e-4,weight_decay=0.01)\n",
    "loss_fn = CrossEntropyLoss()\n",
    "\n",
    "# Move model to device (GPU if available)\n",
    "device = torch.device(\"cuda\" if torch.cuda.is_available() else \"cpu\")\n",
    "model.to(device)\n",
    "\n",
    "# Training loop\n",
    "num_epochs = 20\n",
    "\n",
    "scheduler = get_linear_schedule_with_warmup(\n",
    "    optimizer,\n",
    "    num_warmup_steps=200,\n",
    "    num_training_steps=len(train_loader) * num_epochs  # Number of steps per epoch * number of epochs\n",
    ")"
   ]
  },
  {
   "cell_type": "code",
   "execution_count": 145,
   "metadata": {},
   "outputs": [],
   "source": [
    "from sklearn.metrics import f1_score"
   ]
  },
  {
   "cell_type": "code",
   "execution_count": 146,
   "metadata": {},
   "outputs": [
    {
     "name": "stdout",
     "output_type": "stream",
     "text": [
      "Epoch 1/20, Loss: 1.1851\n",
      "Validation Loss: 1.1744, Accuracy: 0.3472, F1 Score: 0.1736\n",
      "Epoch 2/20, Loss: 1.1747\n",
      "Validation Loss: 1.1562, Accuracy: 0.3472, F1 Score: 0.1736\n",
      "Epoch 3/20, Loss: 1.1598\n",
      "Validation Loss: 1.1323, Accuracy: 0.3472, F1 Score: 0.1736\n",
      "Epoch 4/20, Loss: 1.1386\n",
      "Validation Loss: 1.1119, Accuracy: 0.3472, F1 Score: 0.1959\n",
      "Epoch 5/20, Loss: 1.1150\n",
      "Validation Loss: 1.1009, Accuracy: 0.3750, F1 Score: 0.2985\n",
      "Epoch 6/20, Loss: 1.0954\n",
      "Validation Loss: 1.0926, Accuracy: 0.4306, F1 Score: 0.3752\n",
      "Epoch 7/20, Loss: 1.0725\n",
      "Validation Loss: 1.0753, Accuracy: 0.4167, F1 Score: 0.4133\n",
      "Epoch 8/20, Loss: 1.0608\n",
      "Validation Loss: 1.0193, Accuracy: 0.5417, F1 Score: 0.5374\n",
      "Epoch 9/20, Loss: 1.0017\n",
      "Validation Loss: 0.9124, Accuracy: 0.5139, F1 Score: 0.5106\n",
      "Epoch 10/20, Loss: 0.8880\n",
      "Validation Loss: 0.8229, Accuracy: 0.5694, F1 Score: 0.5917\n",
      "Epoch 11/20, Loss: 0.8008\n",
      "Validation Loss: 0.8454, Accuracy: 0.5972, F1 Score: 0.5617\n",
      "Epoch 12/20, Loss: 0.7579\n",
      "Validation Loss: 0.7886, Accuracy: 0.5139, F1 Score: 0.4884\n",
      "Epoch 13/20, Loss: 0.7545\n",
      "Validation Loss: 0.7536, Accuracy: 0.5694, F1 Score: 0.5926\n",
      "Epoch 14/20, Loss: 0.7111\n",
      "Validation Loss: 0.8138, Accuracy: 0.5972, F1 Score: 0.6123\n",
      "Epoch 15/20, Loss: 0.7092\n",
      "Validation Loss: 0.7442, Accuracy: 0.5833, F1 Score: 0.6029\n",
      "Epoch 16/20, Loss: 0.6383\n",
      "Validation Loss: 0.7724, Accuracy: 0.6250, F1 Score: 0.6414\n",
      "Epoch 17/20, Loss: 0.6568\n",
      "Validation Loss: 0.7962, Accuracy: 0.5972, F1 Score: 0.6147\n",
      "Epoch 18/20, Loss: 0.6283\n",
      "Validation Loss: 0.7787, Accuracy: 0.6389, F1 Score: 0.6565\n",
      "Epoch 19/20, Loss: 0.6196\n",
      "Validation Loss: 0.7551, Accuracy: 0.6667, F1 Score: 0.6808\n",
      "Epoch 20/20, Loss: 0.6216\n",
      "Validation Loss: 0.7697, Accuracy: 0.6250, F1 Score: 0.6437\n"
     ]
    }
   ],
   "source": [
    "for epoch in range(num_epochs):\n",
    "    model.train()  # Set the model to training mode\n",
    "    train_loss = 0.0\n",
    "    \n",
    "    for batch in train_loader:\n",
    "        optimizer.zero_grad()\n",
    "        input_ids = batch['input_ids'].to(device)\n",
    "        attention_mask = batch['attention_mask'].to(device)\n",
    "        labels = batch['labels'].to(device)\n",
    "\n",
    "        outputs = model(input_ids=input_ids, attention_mask=attention_mask, labels=labels)\n",
    "        loss = outputs.loss\n",
    "\n",
    "        loss.backward()\n",
    "\n",
    "        optimizer.step()\n",
    "        scheduler.step()  # Update learning rate scheduler\n",
    "\n",
    "        # Keep track of the running loss\n",
    "        train_loss += loss.item()\n",
    "\n",
    "    avg_train_loss = train_loss / len(train_loader)\n",
    "    print(f\"Epoch {epoch+1}/{num_epochs}, Loss: {avg_train_loss:.4f}\")\n",
    "\n",
    "    # Evaluate on the validation set\n",
    "    model.eval()  # Set the model to evaluation mode\n",
    "    val_loss = 0.0\n",
    "    all_preds = []\n",
    "    all_labels = []\n",
    "\n",
    "    with torch.no_grad():\n",
    "        for batch in val_loader:\n",
    "            input_ids = batch['input_ids'].to(device)\n",
    "            attention_mask = batch['attention_mask'].to(device)\n",
    "            labels = batch['labels'].to(device)\n",
    "\n",
    "            outputs = model(input_ids=input_ids, attention_mask=attention_mask, labels=labels)\n",
    "            loss = outputs.loss\n",
    "            val_loss += loss.item()\n",
    "\n",
    "            # Calculate accuracy\n",
    "            logits = outputs.logits\n",
    "            preds = torch.argmax(logits, dim=1)\n",
    "            correct_preds += (preds == labels).sum().item()\n",
    "            total_preds += labels.size(0)\n",
    "            all_preds.extend(preds.cpu().tolist())\n",
    "            all_labels.extend(labels.cpu().tolist())\n",
    "\n",
    "    avg_val_loss = val_loss / len(val_loader)\n",
    "    val_accuracy = (torch.tensor(all_preds) == torch.tensor(all_labels)).sum().item() / len(all_labels)\n",
    "    val_f1 = f1_score(all_labels, all_preds, average='macro')  # macro for multi-class balance\n",
    "\n",
    "    print(f\"Validation Loss: {avg_val_loss:.4f}, Accuracy: {val_accuracy:.4f}, F1 Score: {val_f1:.4f}\")"
   ]
  },
  {
   "cell_type": "code",
   "execution_count": 149,
   "metadata": {},
   "outputs": [
    {
     "data": {
      "text/plain": [
       "('./saved_lora_model\\\\tokenizer_config.json',\n",
       " './saved_lora_model\\\\special_tokens_map.json',\n",
       " './saved_lora_model\\\\vocab.txt',\n",
       " './saved_lora_model\\\\added_tokens.json')"
      ]
     },
     "execution_count": 149,
     "metadata": {},
     "output_type": "execute_result"
    }
   ],
   "source": [
    "#save the weight/config/tokenizer\n",
    "output_dir = \"./saved_lora_model\"\n",
    "torch.save(model.state_dict(), f\"{output_dir}/pytorch_model.bin\")\n",
    "model.config.save_pretrained(output_dir)\n",
    "tokenizer.save_pretrained(output_dir)"
   ]
  }
 ],
 "metadata": {
  "kernelspec": {
   "display_name": "TorchEnv",
   "language": "python",
   "name": "python3"
  },
  "language_info": {
   "codemirror_mode": {
    "name": "ipython",
    "version": 3
   },
   "file_extension": ".py",
   "mimetype": "text/x-python",
   "name": "python",
   "nbconvert_exporter": "python",
   "pygments_lexer": "ipython3",
   "version": "3.9.21"
  }
 },
 "nbformat": 4,
 "nbformat_minor": 2
}
